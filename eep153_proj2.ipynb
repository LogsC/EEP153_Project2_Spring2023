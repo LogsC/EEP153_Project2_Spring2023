{
 "cells": [
  {
   "cell_type": "code",
   "execution_count": 1,
   "id": "5fd46588",
   "metadata": {},
   "outputs": [],
   "source": [
    "#!pip install -r requirements.txt --upgrade\n",
    "\n",
    "import pandas as pd"
   ]
  },
  {
   "cell_type": "code",
   "execution_count": 2,
   "id": "87d11525",
   "metadata": {},
   "outputs": [],
   "source": [
    "apikey = \"dAOIedcTGyj4d9jQduptkH2GqhXPa2QNaNi6bCHg\""
   ]
  },
  {
   "cell_type": "code",
   "execution_count": 8,
   "id": "9828ebae",
   "metadata": {},
   "outputs": [
    {
     "data": {
      "text/plain": [
       "Nutrition\n",
       "Energy (Calories)                  1600.0\n",
       "Protein (g)                          34.0\n",
       "Fiber, total dietary (g)             22.4\n",
       "Folate, DFE (mcg)                   300.0\n",
       "Calcium, Ca (mg)                   1300.0\n",
       "Carbohydrate, by difference (g)     130.0\n",
       "Iron, Fe (mg)                         8.0\n",
       "Magnesium, Mg (mg)                  240.0\n",
       "Niacin (mg)                          12.0\n",
       "Phosphorus, P (mg)                 1250.0\n",
       "Potassium, K (mg)                  4500.0\n",
       "Riboflavin (mg)                       0.9\n",
       "Thiamin (mg)                          0.9\n",
       "Vitamin A, RAE (mcg)                600.0\n",
       "Vitamin B-12 (mcg)                    1.8\n",
       "Vitamin B-6 (mg)                      1.0\n",
       "Vitamin C (mg)                       45.0\n",
       "Vitamin E (mg)                       11.0\n",
       "Vitamin K (mcg)                      60.0\n",
       "Zinc, Zn (mg)                         8.0\n",
       "Sodium, Na (mg)                   -2200.0\n",
       "Energy (Calories)                 -2800.0\n",
       "Name: 13, dtype: float64"
      ]
     },
     "execution_count": 8,
     "metadata": {},
     "output_type": "execute_result"
    }
   ],
   "source": [
    "# for negative values (the last two in the series), this represents the maximum daily intake for those nutrients\n",
    "def dietary_reference_intakes(age, sex):\n",
    "    \n",
    "    fdmin = pd.read_csv('fdm.csv').drop('Source',axis=1).set_index('Nutrition')\n",
    "    fdmax = pd.read_csv('fdmax.csv').drop('Source',axis=1).set_index('Nutrition')\n",
    "    fdri = pd.concat([fdmin,-fdmax])\n",
    "    \n",
    "    mdmin = pd.read_csv('mdm.csv').drop('Source',axis=1).set_index('Nutrition')\n",
    "    mdmax = pd.read_csv('mdmax.csv').drop('Source',axis=1).set_index('Nutrition')\n",
    "    mdri = pd.concat([mdmin,-mdmax])\n",
    "    \n",
    "    age_cutoffs = [3, 8, 13, 18, 30, 50]\n",
    "    ac_i = 0\n",
    "    while age_cutoffs[ac_i] < age:\n",
    "        ac_i += 1\n",
    "    if sex == 'female':\n",
    "        selected_data = fdri[str(age_cutoffs[ac_i])]\n",
    "        return selected_data\n",
    "    else:\n",
    "        selected_data = fdri[str(age_cutoffs[ac_i])]\n",
    "        return selected_data\n",
    "\n",
    "dietary_reference_intakes(9, 'male')"
   ]
  },
  {
   "cell_type": "code",
   "execution_count": null,
   "id": "ba0195be",
   "metadata": {},
   "outputs": [],
   "source": []
  }
 ],
 "metadata": {
  "kernelspec": {
   "display_name": "Python 3 (ipykernel)",
   "language": "python",
   "name": "python3"
  },
  "language_info": {
   "codemirror_mode": {
    "name": "ipython",
    "version": 3
   },
   "file_extension": ".py",
   "mimetype": "text/x-python",
   "name": "python",
   "nbconvert_exporter": "python",
   "pygments_lexer": "ipython3",
   "version": "3.9.15"
  }
 },
 "nbformat": 4,
 "nbformat_minor": 5
}
